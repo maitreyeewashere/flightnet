{
 "cells": [
  {
   "cell_type": "markdown",
   "id": "d96a2d38",
   "metadata": {},
   "source": [
    "# Data Science Tools and Ecosystem"
   ]
  },
  {
   "cell_type": "markdown",
   "id": "ce0dacef",
   "metadata": {},
   "source": [
    "In this notebook, Data Science Tools and Ecosystem are summarized."
   ]
  },
  {
   "cell_type": "markdown",
   "id": "1e5a16c7",
   "metadata": {},
   "source": [
    "**Objectives**\n",
    "* To recall and list data science languages\n",
    "* To recall and list data science tools\n",
    "* To familiarise ourselves with the commands and formats in Jupyter Notebooks"
   ]
  },
  {
   "cell_type": "markdown",
   "id": "9f473948",
   "metadata": {},
   "source": [
    "Some popular data science languages: \n",
    "\n",
    "1. Python\n",
    "2. R\n",
    "3. Java\n",
    "4. SQL\n",
    "5. Scala"
   ]
  },
  {
   "cell_type": "markdown",
   "id": "1f0c5224",
   "metadata": {},
   "source": [
    "Some commonly used data science libraries:\n",
    "1. Matplotlib\n",
    "2. Pandas\n",
    "3. Scikit-learn\n",
    "4. PyTorch\n",
    "5. Keras"
   ]
  },
  {
   "cell_type": "markdown",
   "id": "04170c69",
   "metadata": {},
   "source": [
    "|Data Science Tools|\n",
    "|:-----|\n",
    "|Jupyter Notebook|\n",
    "|Apache Hadoop|\n",
    "|Apache Spark|"
   ]
  },
  {
   "cell_type": "markdown",
   "id": "a26371e4",
   "metadata": {},
   "source": [
    "### 7 . Below are some arithmetic expressions in Python\n",
    "\n",
    "a = 7  \n",
    "b = a + 5"
   ]
  },
  {
   "cell_type": "code",
   "execution_count": 3,
   "id": "2778c1f7",
   "metadata": {},
   "outputs": [
    {
     "data": {
      "text/plain": [
       "17"
      ]
     },
     "execution_count": 3,
     "metadata": {},
     "output_type": "execute_result"
    }
   ],
   "source": [
    "(3*4)+5 #this is a simple arithmetic expression to multiply then add integers"
   ]
  },
  {
   "cell_type": "code",
   "execution_count": 5,
   "id": "1f0fcc01",
   "metadata": {},
   "outputs": [
    {
     "name": "stdout",
     "output_type": "stream",
     "text": [
      "33.333333333333336  hours\n"
     ]
    }
   ],
   "source": [
    "hours = 200/6\n",
    "print(hours, \" hours\")"
   ]
  },
  {
   "cell_type": "markdown",
   "id": "77b78898",
   "metadata": {},
   "source": [
    "## Author\n",
    "Maitreyee Sar"
   ]
  },
  {
   "cell_type": "code",
   "execution_count": null,
   "id": "678d484c",
   "metadata": {},
   "outputs": [],
   "source": []
  }
 ],
 "metadata": {
  "kernelspec": {
   "display_name": "Python 3 (ipykernel)",
   "language": "python",
   "name": "python3"
  },
  "language_info": {
   "codemirror_mode": {
    "name": "ipython",
    "version": 3
   },
   "file_extension": ".py",
   "mimetype": "text/x-python",
   "name": "python",
   "nbconvert_exporter": "python",
   "pygments_lexer": "ipython3",
   "version": "3.11.4"
  }
 },
 "nbformat": 4,
 "nbformat_minor": 5
}
